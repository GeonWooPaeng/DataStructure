{
 "cells": [
  {
   "cell_type": "code",
   "execution_count": 1,
   "metadata": {},
   "outputs": [],
   "source": [
    "def selection_sort(data):\n",
    "    for stand in range(len(data)-1):\n",
    "        lowest = stand \n",
    "        for index in range(stand+1,len(data)):\n",
    "            if data[lowest] > data[index]:\n",
    "                lowest = index\n",
    "                \n",
    "        data[stand],data[lowest] = data[lowest], data[stand]\n",
    "    return data"
   ]
  },
  {
   "cell_type": "code",
   "execution_count": 3,
   "metadata": {},
   "outputs": [
    {
     "data": {
      "text/plain": [
       "[1,\n",
       " 2,\n",
       " 3,\n",
       " 4,\n",
       " 6,\n",
       " 9,\n",
       " 10,\n",
       " 13,\n",
       " 15,\n",
       " 16,\n",
       " 17,\n",
       " 21,\n",
       " 26,\n",
       " 29,\n",
       " 30,\n",
       " 31,\n",
       " 33,\n",
       " 34,\n",
       " 36,\n",
       " 37,\n",
       " 40,\n",
       " 41,\n",
       " 42,\n",
       " 48,\n",
       " 52,\n",
       " 53,\n",
       " 56,\n",
       " 57,\n",
       " 60,\n",
       " 62,\n",
       " 63,\n",
       " 66,\n",
       " 67,\n",
       " 72,\n",
       " 73,\n",
       " 75,\n",
       " 77,\n",
       " 78,\n",
       " 81,\n",
       " 82,\n",
       " 84,\n",
       " 85,\n",
       " 86,\n",
       " 87,\n",
       " 92,\n",
       " 93,\n",
       " 94,\n",
       " 97,\n",
       " 98,\n",
       " 99]"
      ]
     },
     "execution_count": 3,
     "metadata": {},
     "output_type": "execute_result"
    }
   ],
   "source": [
    "import random\n",
    "data_list = random.sample(range(100),50)\n",
    "selection_sort(data_list)"
   ]
  },
  {
   "cell_type": "code",
   "execution_count": 5,
   "metadata": {},
   "outputs": [],
   "source": [
    "def insertion_sort(data):\n",
    "    for stand in range(len(data)-1):\n",
    "        for index in range(stand+1,0,-1):\n",
    "            if data[index] < data[index-1]:\n",
    "                data[index], data[index-1] = data[index-1], data[index]\n",
    "            else:\n",
    "                break\n",
    "    return data\n",
    "                "
   ]
  },
  {
   "cell_type": "code",
   "execution_count": 6,
   "metadata": {},
   "outputs": [
    {
     "data": {
      "text/plain": [
       "[3, 30, 41, 45, 50, 70, 71, 84, 90, 92]"
      ]
     },
     "execution_count": 6,
     "metadata": {},
     "output_type": "execute_result"
    }
   ],
   "source": [
    "import random\n",
    "data = random.sample(range(100),10)\n",
    "insertion_sort(data)\n"
   ]
  },
  {
   "cell_type": "code",
   "execution_count": 1,
   "metadata": {},
   "outputs": [],
   "source": [
    "def factorial(n):\n",
    "    fac = 1 \n",
    "    for index in range(2, n+1):\n",
    "        fac = fac * index \n",
    "    return fac "
   ]
  },
  {
   "cell_type": "code",
   "execution_count": 2,
   "metadata": {},
   "outputs": [
    {
     "data": {
      "text/plain": [
       "6"
      ]
     },
     "execution_count": 2,
     "metadata": {},
     "output_type": "execute_result"
    }
   ],
   "source": [
    "factorial(3)\n"
   ]
  },
  {
   "cell_type": "code",
   "execution_count": 3,
   "metadata": {},
   "outputs": [],
   "source": [
    "def factorial(n):\n",
    "    if n> 1:\n",
    "        return n * factorial(n-1)\n",
    "    else:\n",
    "        return 1"
   ]
  },
  {
   "cell_type": "code",
   "execution_count": 4,
   "metadata": {},
   "outputs": [
    {
     "data": {
      "text/plain": [
       "120"
      ]
     },
     "execution_count": 4,
     "metadata": {},
     "output_type": "execute_result"
    }
   ],
   "source": [
    "factorial(5)"
   ]
  },
  {
   "cell_type": "code",
   "execution_count": 20,
   "metadata": {},
   "outputs": [],
   "source": [
    "def mul(num):\n",
    "    return_value = 1\n",
    "    for index in range(1,num+1):\n",
    "        return_value = return_value * index \n",
    "    return return_value "
   ]
  },
  {
   "cell_type": "code",
   "execution_count": 21,
   "metadata": {},
   "outputs": [
    {
     "data": {
      "text/plain": [
       "120"
      ]
     },
     "execution_count": 21,
     "metadata": {},
     "output_type": "execute_result"
    }
   ],
   "source": [
    "mul(5)\n"
   ]
  },
  {
   "cell_type": "code",
   "execution_count": 22,
   "metadata": {},
   "outputs": [],
   "source": [
    "def multiple(num):\n",
    "    if num <= 1:\n",
    "        return num\n",
    "    return num * multiple(num-1)"
   ]
  },
  {
   "cell_type": "code",
   "execution_count": 23,
   "metadata": {},
   "outputs": [
    {
     "data": {
      "text/plain": [
       "120"
      ]
     },
     "execution_count": 23,
     "metadata": {},
     "output_type": "execute_result"
    }
   ],
   "source": [
    "multiple(5)"
   ]
  },
  {
   "cell_type": "code",
   "execution_count": 1,
   "metadata": {},
   "outputs": [],
   "source": [
    "def func(n):\n",
    "    print(n)\n",
    "    if n == 1:\n",
    "        return n\n",
    "    elif n % 2 == 1:\n",
    "        return func(3*n+1)\n",
    "    else:\n",
    "        return func(n//2)"
   ]
  },
  {
   "cell_type": "code",
   "execution_count": 2,
   "metadata": {},
   "outputs": [
    {
     "name": "stdout",
     "output_type": "stream",
     "text": [
      "3\n",
      "10\n",
      "5\n",
      "16\n",
      "8\n",
      "4\n",
      "2\n",
      "1\n"
     ]
    },
    {
     "data": {
      "text/plain": [
       "1"
      ]
     },
     "execution_count": 2,
     "metadata": {},
     "output_type": "execute_result"
    }
   ],
   "source": [
    "func(3)"
   ]
  },
  {
   "cell_type": "code",
   "execution_count": 1,
   "metadata": {},
   "outputs": [],
   "source": [
    "def split(data):\n",
    "    med = len(data) // 2\n",
    "    left = data[:med]\n",
    "    right = data[med:]\n",
    "    return left, right,data"
   ]
  },
  {
   "cell_type": "code",
   "execution_count": 2,
   "metadata": {},
   "outputs": [
    {
     "data": {
      "text/plain": [
       "([18, 98, 19, 4, 85],\n",
       " [47, 21, 62, 10, 69],\n",
       " [18, 98, 19, 4, 85, 47, 21, 62, 10, 69])"
      ]
     },
     "execution_count": 2,
     "metadata": {},
     "output_type": "execute_result"
    }
   ],
   "source": [
    "import random\n",
    "data = random.sample(range(100),10)\n",
    "split(data)"
   ]
  },
  {
   "cell_type": "code",
   "execution_count": 34,
   "metadata": {},
   "outputs": [],
   "source": [
    "def mergesplit(data):\n",
    "    if len(data) <= 1:\n",
    "        return data\n",
    "    medium = int(len(data)/2)\n",
    "    left = mergesplit(data[:medium])\n",
    "    right = mergesplit(data[medium:])\n",
    "    return merge(left, right)"
   ]
  },
  {
   "cell_type": "code",
   "execution_count": 35,
   "metadata": {},
   "outputs": [],
   "source": [
    "def merge(left,right):\n",
    "    merged = list()\n",
    "    l_p, r_p = 0,0\n",
    "    \n",
    "    while (len(left)>l_p and len(right)>r_p):\n",
    "        if left[l_p] < right[r_p]:\n",
    "            merged.append(left[l_p])\n",
    "            l_p += 1\n",
    "        else:\n",
    "            merged.append(right[r_p])\n",
    "            r_p += 1\n",
    "            \n",
    "    while(len(left)>l_p):\n",
    "        merged.append(left[l_p])\n",
    "        l_p += 1\n",
    "        \n",
    "    while(len(right) > r_p):\n",
    "        merged.append(right[r_p])\n",
    "        r_p += 1\n",
    "        \n",
    "    return merged"
   ]
  },
  {
   "cell_type": "code",
   "execution_count": 36,
   "metadata": {},
   "outputs": [
    {
     "name": "stdout",
     "output_type": "stream",
     "text": [
      "[6, 41, 80, 0, 77, 51, 74]\n"
     ]
    },
    {
     "data": {
      "text/plain": [
       "[0, 6, 41, 51, 74, 77, 80]"
      ]
     },
     "execution_count": 36,
     "metadata": {},
     "output_type": "execute_result"
    }
   ],
   "source": [
    "import random\n",
    "data = random.sample(range(100),7)\n",
    "print(data)\n",
    "mergesplit(data)"
   ]
  },
  {
   "cell_type": "code",
   "execution_count": 37,
   "metadata": {},
   "outputs": [],
   "source": [
    "def binary(data, search):\n",
    "    data.sort()\n",
    "    print(data)\n",
    "    if len(data) == 1 and data[0] == search:\n",
    "        return True\n",
    "    elif len(data) == 1 and data[0] == search:\n",
    "        return False\n",
    "    elif len(data) == 0:\n",
    "        return False \n",
    "    \n",
    "    medium = len(data) // 2\n",
    "    \n",
    "    if data[medium] == search:\n",
    "        return True\n",
    "    else:\n",
    "        if data[medium] < search:\n",
    "            return binary(data[medium+1:],search)\n",
    "        else:\n",
    "            return binary(data[:medium],search)"
   ]
  },
  {
   "cell_type": "code",
   "execution_count": 38,
   "metadata": {},
   "outputs": [
    {
     "name": "stdout",
     "output_type": "stream",
     "text": [
      "[10, 96, 89, 24, 77, 63, 92, 54, 83, 46]\n"
     ]
    }
   ],
   "source": [
    "import random\n",
    "data = random.sample(range(100),10)\n",
    "print(data)"
   ]
  },
  {
   "cell_type": "code",
   "execution_count": 39,
   "metadata": {},
   "outputs": [
    {
     "name": "stdout",
     "output_type": "stream",
     "text": [
      "[10, 24, 46, 54, 63, 77, 83, 89, 92, 96]\n",
      "[10, 24, 46, 54, 63]\n",
      "[10, 24]\n"
     ]
    },
    {
     "data": {
      "text/plain": [
       "True"
      ]
     },
     "execution_count": 39,
     "metadata": {},
     "output_type": "execute_result"
    }
   ],
   "source": [
    "binary(data,24)"
   ]
  },
  {
   "cell_type": "code",
   "execution_count": 29,
   "metadata": {},
   "outputs": [
    {
     "name": "stdout",
     "output_type": "stream",
     "text": [
      "1 3 9\n",
      "ascending\n"
     ]
    }
   ],
   "source": [
    "n, m = list"
   ]
  },
  {
   "cell_type": "code",
   "execution_count": 31,
   "metadata": {
    "scrolled": true
   },
   "outputs": [
    {
     "name": "stdout",
     "output_type": "stream",
     "text": [
      "5 21\n",
      "5 6 7 8 9\n",
      "21\n"
     ]
    }
   ],
   "source": [
    "n,m = list(map(int,input().split()))\n",
    "num = list(map(int,input().split()))\n",
    "\n",
    "sum = 0 \n",
    "max = 0\n",
    "\n",
    "for i in range(len(num)):\n",
    "    for j in range(i+1,len(num)):\n",
    "        for k in range(j+1,len(num)):\n",
    "            sum = num[i]+num[j] +num[k]\n",
    "            if sum <= m :\n",
    "                max = sum\n",
    "print(max)"
   ]
  },
  {
   "cell_type": "code",
   "execution_count": null,
   "metadata": {},
   "outputs": [],
   "source": [
    "n = int(input())\n",
    "\n",
    "num = 1 \n",
    "stack = []\n",
    "result = []\n",
    "for i in range(n):\n",
    "    data = int(input())\n",
    "    while num <= data:\n",
    "        stack.append(num)\n",
    "        num += 1\n",
    "        result.append('+')\n",
    "    if stack[-1] == data:\n",
    "        stack.pop()\n",
    "        result.append('-')\n",
    "    else:\n",
    "        print('No')\n",
    "        exit(0)\n",
    "\n",
    "print((' ').join(result))"
   ]
  },
  {
   "cell_type": "code",
   "execution_count": null,
   "metadata": {},
   "outputs": [],
   "source": [
    "testcase = int(input())\n",
    "count = 1\n",
    "\n",
    "for i in range(testcase):\n",
    "    n,m = list(map(int,input().split()))\n",
    "    queue = list(map(int,input().split()))\n",
    "    while True:\n",
    "        if queue[m] == queue[0]:\n",
    "            queue.pop(0)\n",
    "            count +=1\n",
    "        else:\n",
    "            queue.append(queue.pop(0))\n",
    "    print(count)"
   ]
  },
  {
   "cell_type": "code",
   "execution_count": 3,
   "metadata": {},
   "outputs": [
    {
     "name": "stdout",
     "output_type": "stream",
     "text": [
      "3 7 7\n"
     ]
    }
   ],
   "source": [
    "\n",
    "\n",
    "def Z(n,x,y):\n",
    "    global result \n",
    "    if n == 2:\n",
    "        if x == X and y == Y:\n",
    "            print(result)\n",
    "            return \n",
    "        result += 1\n",
    "\n",
    "        if x == X and y+1 == Y:\n",
    "            print(result)\n",
    "            return \n",
    "        result += 1\n",
    "\n",
    "        if x+1 == X and y == Y:\n",
    "            print(result)\n",
    "            return \n",
    "        result += 1\n",
    "\n",
    "        if x+1 == X and y+1 == Y:\n",
    "            print(result)\n",
    "            return \n",
    "        result += 1\n",
    "        return\n",
    "        \n",
    "        Z(n/2,x,y)\n",
    "        Z(n/2,x,y+n/2)\n",
    "        Z(n/2,x+n/2,y)\n",
    "        Z(n/2,x+n/2,y+n/2)\n",
    "\n",
    "\n",
    "result = 0\n",
    "N,X,Y = map(int,input().split(' '))\n",
    "\n",
    "Z(2**N,0,0)"
   ]
  },
  {
   "cell_type": "code",
   "execution_count": 1,
   "metadata": {},
   "outputs": [
    {
     "name": "stdout",
     "output_type": "stream",
     "text": [
      "[[1, 'C'], [5, 'B'], [2, 'A'], [7, 'D']]\n",
      "[1, 'C']\n",
      "[2, 'A']\n",
      "[5, 'B']\n",
      "[7, 'D']\n"
     ]
    }
   ],
   "source": [
    "import heapq \n",
    "queue = []\n",
    "\n",
    "heapq.heappush(queue,[2,'A'])\n",
    "heapq.heappush(queue,[5,'B'])\n",
    "heapq.heappush(queue,[1,'C'])\n",
    "heapq.heappush(queue,[7,'D'])\n",
    "\n",
    "print(queue)\n",
    "\n",
    "for index in range(len(queue)):\n",
    "    print(heapq.heappop(queue))"
   ]
  },
  {
   "cell_type": "code",
   "execution_count": 3,
   "metadata": {},
   "outputs": [],
   "source": [
    "mygraph = {\n",
    "    'A':{'B':8, 'C':1, 'D':2},\n",
    "    'B':{},\n",
    "    'C':{'B':5, 'D':2},\n",
    "    'D':{'E':3, 'F':5},\n",
    "    'E':{'F':1},\n",
    "    'F':{'A':5}\n",
    "}"
   ]
  },
  {
   "cell_type": "code",
   "execution_count": 7,
   "metadata": {},
   "outputs": [],
   "source": [
    "import heapq \n",
    "\n",
    "def dijkstra(graph,start):\n",
    "    \n",
    "    distances = {node: float('inf') for node in graph}\n",
    "    distances[start] = 0 \n",
    "    queue = []\n",
    "    \n",
    "    heapq.heappush(queue,[distances[start],start])\n",
    "    \n",
    "    while queue:\n",
    "        current_distance, current_node = heapq.heappop(queue)\n",
    "        \n",
    "        if distances[current_node] < current_distance:\n",
    "            continue \n",
    "            \n",
    "        for adjacent, weight in graph[current_node].items():\n",
    "            distance = current_distance + weight \n",
    "            \n",
    "            if distance < distances[adjacent]:\n",
    "                distances[adjacent] = distance\n",
    "                heapq.heappush(queue,[distance,adjacent])\n",
    "    \n",
    "    \n",
    "    return distances \n",
    "                "
   ]
  },
  {
   "cell_type": "code",
   "execution_count": 8,
   "metadata": {},
   "outputs": [
    {
     "data": {
      "text/plain": [
       "{'A': 0, 'B': 6, 'C': 1, 'D': 2, 'E': 5, 'F': 6}"
      ]
     },
     "execution_count": 8,
     "metadata": {},
     "output_type": "execute_result"
    }
   ],
   "source": [
    "dijkstra(mygraph,'A')"
   ]
  },
  {
   "cell_type": "code",
   "execution_count": 4,
   "metadata": {},
   "outputs": [],
   "source": [
    "mygraph = {\n",
    "    'vertices': ['A', 'B', 'C', 'D', 'E', 'F', 'G'],\n",
    "    'edges': [\n",
    "        (7, 'A', 'B'),\n",
    "        (5, 'A', 'D'),\n",
    "        (7, 'B', 'A'),\n",
    "        (8, 'B', 'C'),\n",
    "        (9, 'B', 'D'),\n",
    "        (7, 'B', 'E'),\n",
    "        (8, 'C', 'B'),\n",
    "        (5, 'C', 'E'),\n",
    "        (5, 'D', 'A'),\n",
    "        (9, 'D', 'B'),\n",
    "        (7, 'D', 'E'),\n",
    "        (6, 'D', 'F'),\n",
    "        (7, 'E', 'B'),\n",
    "        (5, 'E', 'C'),\n",
    "        (7, 'E', 'D'),\n",
    "        (8, 'E', 'F'),\n",
    "        (9, 'E', 'G'),\n",
    "        (6, 'F', 'D'),\n",
    "        (8, 'F', 'E'),\n",
    "        (11, 'F', 'G'),\n",
    "        (9, 'G', 'E'),\n",
    "        (11, 'G', 'F')\n",
    "    ]\n",
    "}"
   ]
  },
  {
   "cell_type": "code",
   "execution_count": 5,
   "metadata": {},
   "outputs": [],
   "source": [
    "parent = dict()  # 각각 node의 부모 node 저장\n",
    "rank = dict()   # 각각 node의 rank 값 \n",
    "\n",
    "def make_set(node): # 각각 원소 node의 초기화\n",
    "    parent[node] = node # node가 1개 (root가 자기자신)\n",
    "    rank[node] = 0\n",
    "\n",
    "    \n",
    "def find(node): # 각 node의 root 노드 찾기\n",
    "    # path compression\n",
    "    if parent[node] != node: \n",
    "        parent[node] = find(parent[node])\n",
    "    return parent[node]\n",
    "\n",
    "\n",
    "def union(node_v,node_u): # 노드 연결\n",
    "    # union by rank \n",
    "    #각각 root node 알기\n",
    "    root1 = find(node_v)\n",
    "    root2 = find(node_u)\n",
    "    \n",
    "    # rank 알아내기 (이해하기!!)\n",
    "    if rank[root1] > rank[root2]:\n",
    "        parent[root2] = root1\n",
    "    else:\n",
    "        parent[root1] = root2 \n",
    "        \n",
    "        if rank[root1] == rank[root2]:\n",
    "            rank[root2] += 1  #rank 올려주기 (아무거나 올려도 상관 없다.)\n",
    "            \n",
    "            \n",
    "    \n",
    "def kruskal(graph):\n",
    "    mst = list() # cycle이 없으면 간선을 넣어 주는 곳 , 이곳에 들어 온 합은 최소 신장트리\n",
    "    \n",
    "    #1. 초기화\n",
    "    for node in graph['vertices']:\n",
    "        make_set(node)\n",
    "    \n",
    "    #2. 간선 weight 기반 sorting\n",
    "    edges = graph['edges']\n",
    "    edges.sort()\n",
    "    \n",
    "    #3. 간선 연결(사이클 없는)\n",
    "    for edge in edges: #간선 꺼내기\n",
    "        weight, node_v, node_u = edge\n",
    "        # cycle 파악 후 합치기\n",
    "        if find(node_v) != find(node_u): # 같지 않으면 cycle 없다는 것!!\n",
    "            union(node_v,node_u)  # node 합치기 \n",
    "            mst.append(edge)\n",
    "            \n",
    "    return mst "
   ]
  },
  {
   "cell_type": "code",
   "execution_count": 6,
   "metadata": {},
   "outputs": [
    {
     "data": {
      "text/plain": [
       "[(5, 'A', 'D'),\n",
       " (5, 'C', 'E'),\n",
       " (6, 'D', 'F'),\n",
       " (7, 'A', 'B'),\n",
       " (7, 'B', 'E'),\n",
       " (9, 'E', 'G')]"
      ]
     },
     "execution_count": 6,
     "metadata": {},
     "output_type": "execute_result"
    }
   ],
   "source": [
    "kruskal(mygraph)"
   ]
  },
  {
   "cell_type": "code",
   "execution_count": 9,
   "metadata": {},
   "outputs": [
    {
     "name": "stdout",
     "output_type": "stream",
     "text": [
      "[2, 'A']\n",
      "[3, 'C']\n",
      "[5, 'B']\n",
      "[]\n"
     ]
    }
   ],
   "source": [
    "import heapq \n",
    "\n",
    "queue = []\n",
    "graph_data = [[2,'A'],[5,'B'],[3,'C']]\n",
    "\n",
    "for edge in graph_data:\n",
    "    heapq.heappush(queue,edge)\n",
    "    \n",
    "for indext in range(len(queue)):\n",
    "    print(heapq.heappop(queue))\n",
    "\n",
    "print(queue)"
   ]
  },
  {
   "cell_type": "code",
   "execution_count": 11,
   "metadata": {},
   "outputs": [
    {
     "name": "stdout",
     "output_type": "stream",
     "text": [
      "[2, 'A']\n",
      "[3, 'C']\n",
      "[5, 'B']\n",
      "[]\n"
     ]
    }
   ],
   "source": [
    "import heapq \n",
    "\n",
    "graph_data = [[2,'A'],[5,'B'],[3,'C']]\n",
    "\n",
    "heapq.heapify(graph_data)\n",
    "\n",
    "for indext in range(len(graph_data)):\n",
    "    print(heapq.heappop(graph_data))\n",
    "\n",
    "print(graph_data)"
   ]
  },
  {
   "cell_type": "code",
   "execution_count": 14,
   "metadata": {},
   "outputs": [
    {
     "name": "stdout",
     "output_type": "stream",
     "text": [
      "set()\n",
      "[]\n"
     ]
    }
   ],
   "source": [
    "from collections import defaultdict \n",
    "\n",
    "list_dict = defaultdict(set)\n",
    "print(list_dict['key'])\n",
    "\n",
    "list_dict2 = defaultdict(list)\n",
    "print(list_dict2['key'])"
   ]
  },
  {
   "cell_type": "code",
   "execution_count": 18,
   "metadata": {},
   "outputs": [],
   "source": [
    "# 1간선에 node가 중복되는 것은 빼고 작성한다.(간선 표현)\n",
    "myedges = [\n",
    "    (7,'A','B'),(5,'A','D'),\n",
    "    (8,'B','C'),(9,'B','D'),(7,'B','E'),\n",
    "    (5,'C','E'),\n",
    "    (7,'D','E'),(6,'D','F'),\n",
    "    (8,'E','F'),(9,'E','G'),\n",
    "    (11,'F','G')\n",
    "]"
   ]
  },
  {
   "cell_type": "code",
   "execution_count": 32,
   "metadata": {},
   "outputs": [],
   "source": [
    "from collections import defaultdict\n",
    "from heapq import*\n",
    "\n",
    "def prim(start_node,edges):\n",
    "    mst = list() #최소신장트리 간선 list\n",
    "    \n",
    "    adjacent_edges = defaultdict(list) #dictlist만들어 준다. key -> 각각node, value -> 간선 정보 list \n",
    "    #특정 node의 정보 각각 정리\n",
    "    for weight,n1,n2 in edges:\n",
    "        adjacent_edges[n1].append((weight,n1,n2))\n",
    "        adjacent_edges[n2].append((weight,n2,n1))\n",
    "#     print(adjacent_edges)\n",
    "    connected_nodes = set(start_node) #연결된 node 집합\n",
    "    candidate_edge_list = adjacent_edges[start_node] #연결된 간선 list\n",
    "    heapify(candidate_edge_list) #연결된 간선list heap구조로 바꿈 \n",
    "    \n",
    "    while candidate_edge_list: # 더이상 간선 list에 간선 없을 떄 까지 반복 \n",
    "        weight,n1,n2 = heappop(candidate_edge_list) # 간선 list에서 간선 weight가 가장 작은 값 추출\n",
    "        \n",
    "        #인접 node가 연결된 node 잡합에 있는지 확인\n",
    "        if n2 not in connected_nodes: #Cycle이 없으면\n",
    "            connected_nodes.add(n2) #연결된 node집합에 넣는다.\n",
    "            mst.append((weight,n1,n2))\n",
    "            \n",
    "            # 인접 node의 간선 정보를 간선list에 넣는곳\n",
    "            for edge in adjacent_edges[n2]: #인접 node의 정보 가져오기\n",
    "                if edge[2] not in connected_nodes: #인전 node가 연결된 node에 없을 시\n",
    "                    heappush(candidate_edge_list,edge) #연결된 간선list에 간선 정보 넣는다.\n",
    "    \n",
    "    \n",
    "    return mst\n",
    "        "
   ]
  },
  {
   "cell_type": "code",
   "execution_count": 33,
   "metadata": {},
   "outputs": [
    {
     "data": {
      "text/plain": [
       "[(5, 'A', 'D'),\n",
       " (6, 'D', 'F'),\n",
       " (7, 'A', 'B'),\n",
       " (7, 'B', 'E'),\n",
       " (5, 'E', 'C'),\n",
       " (9, 'E', 'G')]"
      ]
     },
     "execution_count": 33,
     "metadata": {},
     "output_type": "execute_result"
    }
   ],
   "source": [
    "prim('A',myedges)"
   ]
  },
  {
   "cell_type": "code",
   "execution_count": 2,
   "metadata": {},
   "outputs": [],
   "source": [
    "from heapdict import heapdict #안에 있는 최소 데이터가 root가 되게 한다.\n",
    "\n",
    "def prim(graph,start):\n",
    "    mst = list()  #최소 간선 list 저장하는 곳\n",
    "    keys = heapdict() # node별 key값을 가진 (heap 구조)\n",
    "    pi = dict() # node가 변했을 때 영향을 받은 간선과 연결된 node를 저장하는 곳(어느 간선에 영향을 받았는지)\n",
    "    total_weigth = 0  # 전체 간선의 total을 저장하는 곳\n",
    "    \n",
    "    for node in graph.keys():\n",
    "        keys[node] = float('inf') # 무한대로 만듬 \n",
    "        pi[node] = None  \n",
    "    \n",
    "    # 현재 선택한 node\n",
    "    keys[start] = 0  \n",
    "    pi[start] = start \n",
    "    \n",
    "    \n",
    "    while keys:\n",
    "        current_node, current_key = keys.popitem()\n",
    "        mst.append([pi[current_node], current_node,current_key]) # 선택된 최소 간선 mst에 넣기\n",
    "        total_weight += current_key\n",
    "        \n",
    "        for adjacent, weight in mygraph[current_node].items():\n",
    "            if adjacent in keys and weight < keys[adjacent]: #인접된 node가 선택되었는지 확인, 값 비교하기 \n",
    "                keys[adjacent] = weight \n",
    "                pi[adjacent] = current_node\n",
    "    \n",
    "    return mst, total_weight"
   ]
  },
  {
   "cell_type": "code",
   "execution_count": 9,
   "metadata": {},
   "outputs": [],
   "source": [
    "def is_available(candidate, current_col):# 조건 만족하는 지 확인하는 함수(수직,대각선 check)\n",
    "    current_row = len(candidate) #행 찾기\n",
    "    for queen_row in range(current_row):\n",
    "        if candidate[queen_row] == current_col or abs(candidate[queen_row]- current_col) == current_row - queen_row: \n",
    "            return False \n",
    "    return True\n",
    "\n",
    "    \n",
    "def DFS(N, current_row, current_candidate, final_result): # current_row - 다음행을 기억하기 위함, current_candidate - 지금 까지 배치된 queen의 위치 정보, final_result - 지금까지 배치 인자\n",
    "    if current_row == N: #배치가 다 끝난 상태\n",
    "        final_result.append(current_candidate[:])\n",
    "        return \n",
    "    \n",
    "    for candidate_col in range(N): #N개 열이 있고 앞에서 부터 인자를 check하겠다.\n",
    "        if is_available(current_candidate, candidate_col): \n",
    "            current_candidate.append(candidate_col)\n",
    "            DFS(N, current_row +1, current_candidate,final_result)\n",
    "            \n",
    "            #backtracking\n",
    "            current_candidate.pop()\n",
    "\n",
    "            \n",
    "def solve_n_queens(N): # NxN은 체스판\n",
    "    final_result = [] #배치도 저장\n",
    "    DFS(N,0,[],final_result)\n",
    "    return final_result"
   ]
  },
  {
   "cell_type": "code",
   "execution_count": 10,
   "metadata": {},
   "outputs": [
    {
     "data": {
      "text/plain": [
       "[[1, 3, 0, 2], [2, 0, 3, 1]]"
      ]
     },
     "execution_count": 10,
     "metadata": {},
     "output_type": "execute_result"
    }
   ],
   "source": [
    "solve_n_queens(4)"
   ]
  },
  {
   "cell_type": "code",
   "execution_count": 3,
   "metadata": {},
   "outputs": [],
   "source": [
    "coin_list = [500,50,100,1]\n",
    "\n",
    "def min_count(value,coin_list):\n",
    "    coin_count = 0\n",
    "    detail = list()\n",
    "    coin_list.sort(reverse=True)\n",
    "    \n",
    "    for coin in coin_list:\n",
    "        coin_num = value // coin \n",
    "        coin_count += coin_num \n",
    "        value -= coin * coin_num \n",
    "        detail.append((coin,coin_num))\n",
    "        \n",
    "    return coin_count, detail\n"
   ]
  },
  {
   "cell_type": "code",
   "execution_count": 4,
   "metadata": {},
   "outputs": [
    {
     "data": {
      "text/plain": [
       "(31, [(500, 9), (100, 2), (50, 0), (1, 20)])"
      ]
     },
     "execution_count": 4,
     "metadata": {},
     "output_type": "execute_result"
    }
   ],
   "source": [
    "min_count(4720,coin_list)"
   ]
  },
  {
   "cell_type": "code",
   "execution_count": null,
   "metadata": {},
   "outputs": [],
   "source": []
  }
 ],
 "metadata": {
  "kernelspec": {
   "display_name": "Python 3",
   "language": "python",
   "name": "python3"
  },
  "language_info": {
   "codemirror_mode": {
    "name": "ipython",
    "version": 3
   },
   "file_extension": ".py",
   "mimetype": "text/x-python",
   "name": "python",
   "nbconvert_exporter": "python",
   "pygments_lexer": "ipython3",
   "version": "3.7.3"
  }
 },
 "nbformat": 4,
 "nbformat_minor": 2
}
