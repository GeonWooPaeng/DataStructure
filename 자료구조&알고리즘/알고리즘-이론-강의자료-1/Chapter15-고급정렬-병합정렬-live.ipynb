{
 "cells": [
  {
   "cell_type": "markdown",
   "metadata": {},
   "source": [
    "## 대표적인 정렬4: 병합 정렬 (merge sort) "
   ]
  },
  {
   "cell_type": "markdown",
   "metadata": {},
   "source": [
    "### 1. 병합 정렬 (merge sort) \n",
    "* 재귀용법을 활용한 정렬 알고리즘\n",
    "  1. 리스트를 절반으로 잘라 비슷한 크기의 두 부분 리스트로 나눈다.\n",
    "  2. 각 부분 리스트를 재귀적으로 합병 정렬을 이용해 정렬한다.\n",
    "  3. 두 부분 리스트를 다시 하나의 정렬된 리스트로 합병한다.\n",
    "\n",
    "#### 직접 눈으로 보면 더 이해가 쉽다: https://visualgo.net/en/sorting\n",
    "\n",
    "<img src=\"https://upload.wikimedia.org/wikipedia/commons/c/cc/Merge-sort-example-300px.gif\" width=500/>\n",
    "\n",
    "출처: [위키피디아](https://ko.wikipedia.org/wiki/%ED%95%A9%EB%B3%91_%EC%A0%95%EB%A0%AC)"
   ]
  },
  {
   "cell_type": "markdown",
   "metadata": {},
   "source": [
    "### 2. 알고리즘 이해\n",
    "* 데이터가 네 개 일때 (데이터 갯수에 따라 복잡도가 떨어지는 것은 아니므로, 네 개로 바로 로직을 이해해보자.)\n",
    "  - 예: data_list = [1, 9, 3, 2]\n",
    "    - 먼저 [1, 9], [3, 2] 로 나누고\n",
    "    - 다시 앞 부분은 [1], [9] 로 나누고\n",
    "    - 다시 정렬해서 합친다. [1, 9]\n",
    "    - 다음 [3, 2] 는 [3], [2] 로 나누고\n",
    "    - 다시 정렬해서 합친다 [2, 3]\n",
    "    - 이제 [1, 9] 와 [2, 3]을 합친다.\n",
    "      - 1 < 2 이니 [1]\n",
    "      - 9 > 2 이니 [1, 2]\n",
    "      - 9 > 3 이니 [1, 2, 3]\n",
    "      - 9 밖에 없으니, [1, 2, 3, 9]"
   ]
  },
  {
   "cell_type": "markdown",
   "metadata": {},
   "source": [
    "### 3. 알고리즘 구현\n",
    "* mergesplit 함수 만들기\n",
    "  - 만약 리스트 갯수가 한개이면 해당 값 리턴\n",
    "  - 그렇지 않으면, 리스트를 앞뒤, 두 개로 나누기\n",
    "  - left = mergesplit(앞)\n",
    "  - right = mergesplit(뒤)\n",
    "  - merge(left, right)\n",
    "\n",
    "* merge 함수 만들기\n",
    "  - 리스트 변수 하나 만들기 (sorted)\n",
    "  - left_index, right_index = 0\n",
    "  - while left_index < len(left) or right_index < len(right):\n",
    "    - 만약 left_index 나 right_index 가 이미 left 또는 right 리스트를 다 순회했다면, 그 반대쪽 데이터를 그대로 넣고, 해당 인덱스 1 증가\n",
    "    - if left[left_index] < right[right_index]:\n",
    "      - sorted.append(left[left_index])\n",
    "      - left_index += 1\n",
    "    - else:\n",
    "      - sorted.append(right[right_index])\n",
    "      - right_index += 1"
   ]
  },
  {
   "cell_type": "markdown",
   "metadata": {},
   "source": [
    "### 작은 부분부터 작성해서 하나씩 구현하기"
   ]
  },
  {
   "cell_type": "markdown",
   "metadata": {
    "solution2": "shown",
    "solution2_first": true
   },
   "source": [
    "<div class=\"alert alert-block alert-warning\">\n",
    "<strong><font color=\"blue\" size=\"4em\">프로그래밍 연습</font></strong><br>\n",
    "어떤 데이터리스트가 있을 때 리스트를 앞뒤로 짜르는 코드 작성해보기 (일반화)\n",
    "</div>"
   ]
  },
  {
   "cell_type": "code",
   "execution_count": 10,
   "metadata": {},
   "outputs": [],
   "source": [
    "def split_func(data):\n",
    "    medium = int(len(data) / 2)\n",
    "    print (medium)\n",
    "    left = data[:medium]\n",
    "    right = data[medium:]\n",
    "    print (left, right)"
   ]
  },
  {
   "cell_type": "code",
   "execution_count": 11,
   "metadata": {},
   "outputs": [
    {
     "name": "stdout",
     "output_type": "stream",
     "text": [
      "2\n",
      "[1, 5] [3, 2, 4]\n"
     ]
    }
   ],
   "source": [
    "split_func([1, 5, 3, 2, 4])"
   ]
  },
  {
   "cell_type": "markdown",
   "metadata": {},
   "source": [
    "### 재귀용법 활용하기"
   ]
  },
  {
   "cell_type": "markdown",
   "metadata": {
    "solution2": "hidden",
    "solution2_first": true
   },
   "source": [
    "<div class=\"alert alert-block alert-warning\">\n",
    "<strong><font color=\"blue\" size=\"4em\">프로그래밍 연습</font></strong><br>\n",
    "</div>\n",
    "<pre>\n",
    "다음 문장을 코드로 작성해보기 (merge함수는 아직은 없는 상태, 있다고만 가정)\n",
    "* mergesplit 함수 만들기\n",
    "  - 만약 리스트 갯수가 한개이면 해당 값 리턴\n",
    "  - 그렇지 않으면, 리스트를 앞뒤, 두 개로 나누기\n",
    "  - left = mergesplit(앞)\n",
    "  - right = mergesplit(뒤)\n",
    "  - merge(left, right)\n",
    "</pre>"
   ]
  },
  {
   "cell_type": "code",
   "execution_count": 13,
   "metadata": {},
   "outputs": [],
   "source": [
    "def mergesplit(data):\n",
    "    if len(data) <= 1:\n",
    "        return data\n",
    "    medium = int(len(data) / 2)\n",
    "    left = mergesplit(data[:medium])\n",
    "    right = mergesplit(data[medium:])\n",
    "    return merge(left, right)"
   ]
  },
  {
   "cell_type": "markdown",
   "metadata": {},
   "source": [
    "### merge 함수 만들기\n",
    "* 목표: left 와 right 의 리스트 데이터를 정렬해서 sorted_list 라는 이름으로 return 하기\n",
    "* left와 right는 이미 정렬된 상태 또는 데이터가 하나임"
   ]
  },
  {
   "cell_type": "markdown",
   "metadata": {},
   "source": [
    "<div class=\"alert alert-block alert-warning\">\n",
    "<strong><font color=\"blue\" size=\"4em\">프로그래밍 연습</font></strong><br>\n",
    "</div>\n",
    "\n",
    "1. left 부터 하나씩 right과 비교\n",
    "2. left > right 이면, left 를 sorted_list에 넣고, 다음 left 리스트와 right 비교\n",
    "   - 그렇지않으면 반대로 하기\n",
    "<pre>\n",
    "다음 경우만 프로그래밍으로 작성해보기\n",
    "left = [0]\n",
    "right = [3]\n",
    "결과는 별도의 리스트 변수를 만들어 적은 숫자 순으로 순서대로 저장해서 리턴\n",
    "</pre>"
   ]
  },
  {
   "cell_type": "markdown",
   "metadata": {},
   "source": [
    "<div class=\"alert alert-block alert-warning\">\n",
    "<strong><font color=\"blue\" size=\"4em\">프로그래밍 연습</font></strong><br>\n",
    "</div>\n",
    "<pre>\n",
    "다음 경우만 프로그래밍으로 작성해보기\n",
    "left = [0, 2]\n",
    "right = [1]\n",
    "결과는 별도의 리스트 변수를 만들어 적은 숫자 순으로 순서대로 저장해서 리턴\n",
    "</pre>"
   ]
  },
  {
   "cell_type": "markdown",
   "metadata": {},
   "source": [
    "<div class=\"alert alert-block alert-warning\">\n",
    "<strong><font color=\"blue\" size=\"4em\">프로그래밍 연습</font></strong><br>\n",
    "</div>\n",
    "<pre>\n",
    "다음 경우만 프로그래밍으로 작성해보기\n",
    "left = [0, 2]\n",
    "right = [1, 3]\n",
    "결과는 별도의 리스트 변수를 만들어 적은 숫자 순으로 순서대로 저장해서 리턴\n",
    "</pre>"
   ]
  },
  {
   "cell_type": "markdown",
   "metadata": {
    "solution2": "hidden",
    "solution2_first": true
   },
   "source": [
    "<div class=\"alert alert-block alert-warning\">\n",
    "<strong><font color=\"blue\" size=\"4em\">프로그래밍 연습</font></strong><br>\n",
    "left, right 리스트 변수의 데이터 수가 한 개에서 여러 개가 될 수 있을때 작성해보기(일반화)\n",
    "</div>\n",
    "<pre>\n",
    "1. sorted_list 리스트 변수 선언하기\n",
    "2. left_index, right_index 를 0 으로 초기화 하기\n",
    "3. while left_index < len(left) or right_index < len(right) 이면,\n",
    "   - 만약 left_index >= len(left)이면, sorted_list 에 right[right_index] 를 추가하고, right_index 값을 1증가\n",
    "   - 만약 right_index >= len(right)이면, sorted_list 에 left[left_index] 를 추가하고, left_index 값을 1증가\n",
    "   - 만약 left[left_index] < right[right_index]이면, sorted_list 에 left[left_index] 를 추가하고, left_index 값을 1증가\n",
    "   - 위 세가지가 아니면, sorted_list 에 right[right_index] 를 추가하고, right_index 값을 1증가\n",
    "</pre>"
   ]
  },
  {
   "cell_type": "code",
   "execution_count": 18,
   "metadata": {},
   "outputs": [],
   "source": [
    "def merge(left, right):\n",
    "    merged = list()\n",
    "    left_point, right_point = 0, 0\n",
    "    \n",
    "    # case1 - left/right 둘다 있을때\n",
    "    while len(left) > left_point and len(right) > right_point:\n",
    "        if left[left_point] > right[right_point]:\n",
    "            merged.append(right[right_point])\n",
    "            right_point += 1\n",
    "        else:\n",
    "            merged.append(left[left_point])\n",
    "            left_point += 1\n",
    "\n",
    "    # case2 - left 데이터가 없을 때\n",
    "    while len(left) > left_point:\n",
    "        merged.append(left[left_point])\n",
    "        left_point += 1\n",
    "        \n",
    "    # case3 - right 데이터가 없을 때\n",
    "    while len(right) > right_point:\n",
    "        merged.append(right[right_point])\n",
    "        right_point += 1\n",
    "    \n",
    "    return merged"
   ]
  },
  {
   "cell_type": "markdown",
   "metadata": {},
   "source": [
    "### 최종 코드"
   ]
  },
  {
   "cell_type": "code",
   "execution_count": 3,
   "metadata": {},
   "outputs": [],
   "source": [
    "def merge(left, right):\n",
    "    merged = list()\n",
    "    left_point, right_point = 0, 0\n",
    "    \n",
    "    # case1 - left/right 둘다 있을때\n",
    "    while len(left) > left_point and len(right) > right_point:\n",
    "        if left[left_point] > right[right_point]:\n",
    "            merged.append(right[right_point])\n",
    "            right_point += 1\n",
    "        else:\n",
    "            merged.append(left[left_point])\n",
    "            left_point += 1\n",
    "\n",
    "    # case2 - left 데이터가 없을 때\n",
    "    while len(left) > left_point:\n",
    "        merged.append(left[left_point])\n",
    "        left_point += 1\n",
    "        \n",
    "    # case3 - right 데이터가 없을 때\n",
    "    while len(right) > right_point:\n",
    "        merged.append(right[right_point])\n",
    "        right_point += 1\n",
    "    \n",
    "    return merged\n",
    "\n",
    "\n",
    "def mergesplit(data):\n",
    "    if len(data) <= 1:\n",
    "        return data\n",
    "    medium = int(len(data) / 2)\n",
    "    left = mergesplit(data[:medium])\n",
    "    right = mergesplit(data[medium:])\n",
    "    return merge(left, right)"
   ]
  },
  {
   "cell_type": "code",
   "execution_count": 4,
   "metadata": {},
   "outputs": [
    {
     "data": {
      "text/plain": [
       "[2, 4, 5, 8, 11, 22, 39, 45, 53, 83]"
      ]
     },
     "execution_count": 4,
     "metadata": {},
     "output_type": "execute_result"
    }
   ],
   "source": [
    "import random\n",
    "\n",
    "data_list = random.sample(range(100), 10)\n",
    "mergesplit(data_list)"
   ]
  },
  {
   "cell_type": "markdown",
   "metadata": {},
   "source": [
    "### 4. 알고리즘 분석\n",
    "* 알고리즘 분석은 쉽지 않음, <font color='#BF360C'>이 부분은 참고로만 알아두자.</font>\n",
    "  - 다음을 보고 이해해보자\n",
    "    - 몇 단계 깊이까지 만들어지는지를 depth 라고 하고 i로 놓자. 맨 위 단계는 0으로 놓자.\n",
    "      - 다음 그림에서 n/$2^2$ 는 2단계 깊이라고 해보자.\n",
    "      - 각 단계에 있는 하나의 노드 안의 리스트 길이는 n/$2^2$ 가 된다.\n",
    "      - 각 단계에는 $2^i$ 개의 노드가 있다.\n",
    "    - 따라서, 각 단계는 항상 <font size=4em>$2^i * \\frac { n }{ 2^i } = O(n)$</font>\n",
    "    - 단계는 항상 $log_2 n$ 개 만큼 만들어짐, 시간 복잡도는 결국 O(log n), 2는 역시 상수이므로 삭제\n",
    "    - 따라서, 단계별 시간 복잡도 O(n) * O(log n) = O(n log n)\n",
    "\n",
    "<img src=\"https://www.fun-coding.org/00_Images/mergesortcomplexity.png\" />\n"
   ]
  },
  {
   "cell_type": "markdown",
   "metadata": {},
   "source": [
    "<div class=\"alert alert-block alert-warning\">\n",
    "<strong><font color=\"blue\" size=\"4em\">프로그래밍 연습</font></strong><br>\n",
    "지금 설명한 병합 정렬을 지금 다시 스스로 작성해보세요<br>\n",
    "</div>"
   ]
  }
 ],
 "metadata": {
  "kernelspec": {
   "display_name": "Python 3",
   "language": "python",
   "name": "python3"
  },
  "language_info": {
   "codemirror_mode": {
    "name": "ipython",
    "version": 3
   },
   "file_extension": ".py",
   "mimetype": "text/x-python",
   "name": "python",
   "nbconvert_exporter": "python",
   "pygments_lexer": "ipython3",
   "version": "3.7.3"
  },
  "nbTranslate": {
   "displayLangs": [
    "*"
   ],
   "hotkey": "alt-t",
   "langInMainMenu": true,
   "sourceLang": "en",
   "targetLang": "fr",
   "useGoogleTranslate": true
  }
 },
 "nbformat": 4,
 "nbformat_minor": 1
}
