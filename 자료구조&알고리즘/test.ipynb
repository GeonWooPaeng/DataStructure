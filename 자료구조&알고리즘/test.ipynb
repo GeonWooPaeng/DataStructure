{
 "cells": [
  {
   "cell_type": "code",
   "execution_count": 1,
   "metadata": {},
   "outputs": [],
   "source": [
    "def selection_sort(data):\n",
    "    for stand in range(len(data)-1):\n",
    "        lowest = stand \n",
    "        for index in range(stand+1,len(data)):\n",
    "            if data[lowest] > data[index]:\n",
    "                lowest = index\n",
    "                \n",
    "        data[stand],data[lowest] = data[lowest], data[stand]\n",
    "    return data"
   ]
  },
  {
   "cell_type": "code",
   "execution_count": 3,
   "metadata": {},
   "outputs": [
    {
     "data": {
      "text/plain": [
       "[1,\n",
       " 2,\n",
       " 3,\n",
       " 4,\n",
       " 6,\n",
       " 9,\n",
       " 10,\n",
       " 13,\n",
       " 15,\n",
       " 16,\n",
       " 17,\n",
       " 21,\n",
       " 26,\n",
       " 29,\n",
       " 30,\n",
       " 31,\n",
       " 33,\n",
       " 34,\n",
       " 36,\n",
       " 37,\n",
       " 40,\n",
       " 41,\n",
       " 42,\n",
       " 48,\n",
       " 52,\n",
       " 53,\n",
       " 56,\n",
       " 57,\n",
       " 60,\n",
       " 62,\n",
       " 63,\n",
       " 66,\n",
       " 67,\n",
       " 72,\n",
       " 73,\n",
       " 75,\n",
       " 77,\n",
       " 78,\n",
       " 81,\n",
       " 82,\n",
       " 84,\n",
       " 85,\n",
       " 86,\n",
       " 87,\n",
       " 92,\n",
       " 93,\n",
       " 94,\n",
       " 97,\n",
       " 98,\n",
       " 99]"
      ]
     },
     "execution_count": 3,
     "metadata": {},
     "output_type": "execute_result"
    }
   ],
   "source": [
    "import random\n",
    "data_list = random.sample(range(100),50)\n",
    "selection_sort(data_list)"
   ]
  },
  {
   "cell_type": "code",
   "execution_count": 5,
   "metadata": {},
   "outputs": [],
   "source": [
    "def insertion_sort(data):\n",
    "    for stand in range(len(data)-1):\n",
    "        for index in range(stand+1,0,-1):\n",
    "            if data[index] < data[index-1]:\n",
    "                data[index], data[index-1] = data[index-1], data[index]\n",
    "            else:\n",
    "                break\n",
    "    return data\n",
    "                "
   ]
  },
  {
   "cell_type": "code",
   "execution_count": 6,
   "metadata": {},
   "outputs": [
    {
     "data": {
      "text/plain": [
       "[3, 30, 41, 45, 50, 70, 71, 84, 90, 92]"
      ]
     },
     "execution_count": 6,
     "metadata": {},
     "output_type": "execute_result"
    }
   ],
   "source": [
    "import random\n",
    "data = random.sample(range(100),10)\n",
    "insertion_sort(data)\n"
   ]
  },
  {
   "cell_type": "code",
   "execution_count": 1,
   "metadata": {},
   "outputs": [],
   "source": [
    "def factorial(n):\n",
    "    fac = 1 \n",
    "    for index in range(2, n+1):\n",
    "        fac = fac * index \n",
    "    return fac "
   ]
  },
  {
   "cell_type": "code",
   "execution_count": 2,
   "metadata": {},
   "outputs": [
    {
     "data": {
      "text/plain": [
       "6"
      ]
     },
     "execution_count": 2,
     "metadata": {},
     "output_type": "execute_result"
    }
   ],
   "source": [
    "factorial(3)\n"
   ]
  },
  {
   "cell_type": "code",
   "execution_count": 3,
   "metadata": {},
   "outputs": [],
   "source": [
    "def factorial(n):\n",
    "    if n> 1:\n",
    "        return n * factorial(n-1)\n",
    "    else:\n",
    "        return 1"
   ]
  },
  {
   "cell_type": "code",
   "execution_count": 4,
   "metadata": {},
   "outputs": [
    {
     "data": {
      "text/plain": [
       "120"
      ]
     },
     "execution_count": 4,
     "metadata": {},
     "output_type": "execute_result"
    }
   ],
   "source": [
    "factorial(5)"
   ]
  },
  {
   "cell_type": "code",
   "execution_count": 20,
   "metadata": {},
   "outputs": [],
   "source": [
    "def mul(num):\n",
    "    return_value = 1\n",
    "    for index in range(1,num+1):\n",
    "        return_value = return_value * index \n",
    "    return return_value "
   ]
  },
  {
   "cell_type": "code",
   "execution_count": 21,
   "metadata": {},
   "outputs": [
    {
     "data": {
      "text/plain": [
       "120"
      ]
     },
     "execution_count": 21,
     "metadata": {},
     "output_type": "execute_result"
    }
   ],
   "source": [
    "mul(5)\n"
   ]
  },
  {
   "cell_type": "code",
   "execution_count": 22,
   "metadata": {},
   "outputs": [],
   "source": [
    "def multiple(num):\n",
    "    if num <= 1:\n",
    "        return num\n",
    "    return num * multiple(num-1)"
   ]
  },
  {
   "cell_type": "code",
   "execution_count": 23,
   "metadata": {},
   "outputs": [
    {
     "data": {
      "text/plain": [
       "120"
      ]
     },
     "execution_count": 23,
     "metadata": {},
     "output_type": "execute_result"
    }
   ],
   "source": [
    "multiple(5)"
   ]
  },
  {
   "cell_type": "code",
   "execution_count": 1,
   "metadata": {},
   "outputs": [],
   "source": [
    "def func(n):\n",
    "    print(n)\n",
    "    if n == 1:\n",
    "        return n\n",
    "    elif n % 2 == 1:\n",
    "        return func(3*n+1)\n",
    "    else:\n",
    "        return func(n//2)"
   ]
  },
  {
   "cell_type": "code",
   "execution_count": 2,
   "metadata": {},
   "outputs": [
    {
     "name": "stdout",
     "output_type": "stream",
     "text": [
      "3\n",
      "10\n",
      "5\n",
      "16\n",
      "8\n",
      "4\n",
      "2\n",
      "1\n"
     ]
    },
    {
     "data": {
      "text/plain": [
       "1"
      ]
     },
     "execution_count": 2,
     "metadata": {},
     "output_type": "execute_result"
    }
   ],
   "source": [
    "func(3)"
   ]
  },
  {
   "cell_type": "code",
   "execution_count": 1,
   "metadata": {},
   "outputs": [],
   "source": [
    "def split(data):\n",
    "    med = len(data) // 2\n",
    "    left = data[:med]\n",
    "    right = data[med:]\n",
    "    return left, right,data"
   ]
  },
  {
   "cell_type": "code",
   "execution_count": 2,
   "metadata": {},
   "outputs": [
    {
     "data": {
      "text/plain": [
       "([18, 98, 19, 4, 85],\n",
       " [47, 21, 62, 10, 69],\n",
       " [18, 98, 19, 4, 85, 47, 21, 62, 10, 69])"
      ]
     },
     "execution_count": 2,
     "metadata": {},
     "output_type": "execute_result"
    }
   ],
   "source": [
    "import random\n",
    "data = random.sample(range(100),10)\n",
    "split(data)"
   ]
  },
  {
   "cell_type": "code",
   "execution_count": 34,
   "metadata": {},
   "outputs": [],
   "source": [
    "def mergesplit(data):\n",
    "    if len(data) <= 1:\n",
    "        return data\n",
    "    medium = int(len(data)/2)\n",
    "    left = mergesplit(data[:medium])\n",
    "    right = mergesplit(data[medium:])\n",
    "    return merge(left, right)"
   ]
  },
  {
   "cell_type": "code",
   "execution_count": 35,
   "metadata": {},
   "outputs": [],
   "source": [
    "def merge(left,right):\n",
    "    merged = list()\n",
    "    l_p, r_p = 0,0\n",
    "    \n",
    "    while (len(left)>l_p and len(right)>r_p):\n",
    "        if left[l_p] < right[r_p]:\n",
    "            merged.append(left[l_p])\n",
    "            l_p += 1\n",
    "        else:\n",
    "            merged.append(right[r_p])\n",
    "            r_p += 1\n",
    "            \n",
    "    while(len(left)>l_p):\n",
    "        merged.append(left[l_p])\n",
    "        l_p += 1\n",
    "        \n",
    "    while(len(right) > r_p):\n",
    "        merged.append(right[r_p])\n",
    "        r_p += 1\n",
    "        \n",
    "    return merged"
   ]
  },
  {
   "cell_type": "code",
   "execution_count": 36,
   "metadata": {},
   "outputs": [
    {
     "name": "stdout",
     "output_type": "stream",
     "text": [
      "[6, 41, 80, 0, 77, 51, 74]\n"
     ]
    },
    {
     "data": {
      "text/plain": [
       "[0, 6, 41, 51, 74, 77, 80]"
      ]
     },
     "execution_count": 36,
     "metadata": {},
     "output_type": "execute_result"
    }
   ],
   "source": [
    "import random\n",
    "data = random.sample(range(100),7)\n",
    "print(data)\n",
    "mergesplit(data)"
   ]
  },
  {
   "cell_type": "code",
   "execution_count": 37,
   "metadata": {},
   "outputs": [],
   "source": [
    "def binary(data, search):\n",
    "    data.sort()\n",
    "    print(data)\n",
    "    if len(data) == 1 and data[0] == search:\n",
    "        return True\n",
    "    elif len(data) == 1 and data[0] == search:\n",
    "        return False\n",
    "    elif len(data) == 0:\n",
    "        return False \n",
    "    \n",
    "    medium = len(data) // 2\n",
    "    \n",
    "    if data[medium] == search:\n",
    "        return True\n",
    "    else:\n",
    "        if data[medium] < search:\n",
    "            return binary(data[medium+1:],search)\n",
    "        else:\n",
    "            return binary(data[:medium],search)"
   ]
  },
  {
   "cell_type": "code",
   "execution_count": 38,
   "metadata": {},
   "outputs": [
    {
     "name": "stdout",
     "output_type": "stream",
     "text": [
      "[10, 96, 89, 24, 77, 63, 92, 54, 83, 46]\n"
     ]
    }
   ],
   "source": [
    "import random\n",
    "data = random.sample(range(100),10)\n",
    "print(data)"
   ]
  },
  {
   "cell_type": "code",
   "execution_count": 39,
   "metadata": {},
   "outputs": [
    {
     "name": "stdout",
     "output_type": "stream",
     "text": [
      "[10, 24, 46, 54, 63, 77, 83, 89, 92, 96]\n",
      "[10, 24, 46, 54, 63]\n",
      "[10, 24]\n"
     ]
    },
    {
     "data": {
      "text/plain": [
       "True"
      ]
     },
     "execution_count": 39,
     "metadata": {},
     "output_type": "execute_result"
    }
   ],
   "source": [
    "binary(data,24)"
   ]
  },
  {
   "cell_type": "code",
   "execution_count": 29,
   "metadata": {},
   "outputs": [
    {
     "name": "stdout",
     "output_type": "stream",
     "text": [
      "1 3 9\n",
      "ascending\n"
     ]
    }
   ],
   "source": [
    "n, m = list"
   ]
  },
  {
   "cell_type": "code",
   "execution_count": 31,
   "metadata": {
    "scrolled": true
   },
   "outputs": [
    {
     "name": "stdout",
     "output_type": "stream",
     "text": [
      "5 21\n",
      "5 6 7 8 9\n",
      "21\n"
     ]
    }
   ],
   "source": [
    "n,m = list(map(int,input().split()))\n",
    "num = list(map(int,input().split()))\n",
    "\n",
    "sum = 0 \n",
    "max = 0\n",
    "\n",
    "for i in range(len(num)):\n",
    "    for j in range(i+1,len(num)):\n",
    "        for k in range(j+1,len(num)):\n",
    "            sum = num[i]+num[j] +num[k]\n",
    "            if sum <= m :\n",
    "                max = sum\n",
    "print(max)"
   ]
  },
  {
   "cell_type": "code",
   "execution_count": null,
   "metadata": {},
   "outputs": [],
   "source": [
    "n = int(input())\n",
    "\n",
    "num = 1 \n",
    "stack = []\n",
    "result = []\n",
    "for i in range(n):\n",
    "    data = int(input())\n",
    "    while num <= data:\n",
    "        stack.append(num)\n",
    "        num += 1\n",
    "        result.append('+')\n",
    "    if stack[-1] == data:\n",
    "        stack.pop()\n",
    "        result.append('-')\n",
    "    else:\n",
    "        print('No')\n",
    "        exit(0)\n",
    "\n",
    "print((' ').join(result))"
   ]
  },
  {
   "cell_type": "code",
   "execution_count": null,
   "metadata": {},
   "outputs": [],
   "source": [
    "testcase = int(input())\n",
    "count = 1\n",
    "\n",
    "for i in range(testcase):\n",
    "    n,m = list(map(int,input().split()))\n",
    "    queue = list(map(int,input().split()))\n",
    "    while True:\n",
    "        if queue[m] == queue[0]:\n",
    "            queue.pop(0)\n",
    "            count +=1\n",
    "        else:\n",
    "            queue.append(queue.pop(0))\n",
    "    print(count)"
   ]
  },
  {
   "cell_type": "code",
   "execution_count": 3,
   "metadata": {},
   "outputs": [
    {
     "name": "stdout",
     "output_type": "stream",
     "text": [
      "3 7 7\n"
     ]
    }
   ],
   "source": [
    "\n",
    "\n",
    "def Z(n,x,y):\n",
    "    global result \n",
    "    if n == 2:\n",
    "        if x == X and y == Y:\n",
    "            print(result)\n",
    "            return \n",
    "        result += 1\n",
    "\n",
    "        if x == X and y+1 == Y:\n",
    "            print(result)\n",
    "            return \n",
    "        result += 1\n",
    "\n",
    "        if x+1 == X and y == Y:\n",
    "            print(result)\n",
    "            return \n",
    "        result += 1\n",
    "\n",
    "        if x+1 == X and y+1 == Y:\n",
    "            print(result)\n",
    "            return \n",
    "        result += 1\n",
    "        return\n",
    "        \n",
    "        Z(n/2,x,y)\n",
    "        Z(n/2,x,y+n/2)\n",
    "        Z(n/2,x+n/2,y)\n",
    "        Z(n/2,x+n/2,y+n/2)\n",
    "\n",
    "\n",
    "result = 0\n",
    "N,X,Y = map(int,input().split(' '))\n",
    "\n",
    "Z(2**N,0,0)"
   ]
  },
  {
   "cell_type": "code",
   "execution_count": 1,
   "metadata": {},
   "outputs": [
    {
     "name": "stdout",
     "output_type": "stream",
     "text": [
      "[[1, 'C'], [5, 'B'], [2, 'A'], [7, 'D']]\n",
      "[1, 'C']\n",
      "[2, 'A']\n",
      "[5, 'B']\n",
      "[7, 'D']\n"
     ]
    }
   ],
   "source": [
    "import heapq \n",
    "queue = []\n",
    "\n",
    "heapq.heappush(queue,[2,'A'])\n",
    "heapq.heappush(queue,[5,'B'])\n",
    "heapq.heappush(queue,[1,'C'])\n",
    "heapq.heappush(queue,[7,'D'])\n",
    "\n",
    "print(queue)\n",
    "\n",
    "for index in range(len(queue)):\n",
    "    print(heapq.heappop(queue))"
   ]
  },
  {
   "cell_type": "code",
   "execution_count": 3,
   "metadata": {},
   "outputs": [],
   "source": [
    "mygraph = {\n",
    "    'A':{'B':8, 'C':1, 'D':2},\n",
    "    'B':{},\n",
    "    'C':{'B':5, 'D':2},\n",
    "    'D':{'E':3, 'F':5},\n",
    "    'E':{'F':1},\n",
    "    'F':{'A':5}\n",
    "}"
   ]
  },
  {
   "cell_type": "code",
   "execution_count": 7,
   "metadata": {},
   "outputs": [],
   "source": [
    "import heapq \n",
    "\n",
    "def dijkstra(graph,start):\n",
    "    \n",
    "    distances = {node: float('inf') for node in graph}\n",
    "    distances[start] = 0 \n",
    "    queue = []\n",
    "    \n",
    "    heapq.heappush(queue,[distances[start],start])\n",
    "    \n",
    "    while queue:\n",
    "        current_distance, current_node = heapq.heappop(queue)\n",
    "        \n",
    "        if distances[current_node] < current_distance:\n",
    "            continue \n",
    "            \n",
    "        for adjacent, weight in graph[current_node].items():\n",
    "            distance = current_distance + weight \n",
    "            \n",
    "            if distance < distances[adjacent]:\n",
    "                distances[adjacent] = distance\n",
    "                heapq.heappush(queue,[distance,adjacent])\n",
    "    \n",
    "    \n",
    "    return distances \n",
    "                "
   ]
  },
  {
   "cell_type": "code",
   "execution_count": 8,
   "metadata": {},
   "outputs": [
    {
     "data": {
      "text/plain": [
       "{'A': 0, 'B': 6, 'C': 1, 'D': 2, 'E': 5, 'F': 6}"
      ]
     },
     "execution_count": 8,
     "metadata": {},
     "output_type": "execute_result"
    }
   ],
   "source": [
    "dijkstra(mygraph,'A')"
   ]
  },
  {
   "cell_type": "code",
   "execution_count": null,
   "metadata": {},
   "outputs": [],
   "source": []
  }
 ],
 "metadata": {
  "kernelspec": {
   "display_name": "Python 3",
   "language": "python",
   "name": "python3"
  },
  "language_info": {
   "codemirror_mode": {
    "name": "ipython",
    "version": 3
   },
   "file_extension": ".py",
   "mimetype": "text/x-python",
   "name": "python",
   "nbconvert_exporter": "python",
   "pygments_lexer": "ipython3",
   "version": "3.7.3"
  }
 },
 "nbformat": 4,
 "nbformat_minor": 2
}
