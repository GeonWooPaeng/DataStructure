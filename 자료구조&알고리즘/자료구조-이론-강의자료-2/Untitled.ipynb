{
 "cells": [
  {
   "cell_type": "code",
   "execution_count": 2,
   "metadata": {},
   "outputs": [
    {
     "data": {
      "text/plain": [
       "2"
      ]
     },
     "execution_count": 2,
     "metadata": {},
     "output_type": "execute_result"
    }
   ],
   "source": [
    "heap = list()\n",
    "heap.append(3)\n",
    "heap.append(4)\n",
    "len(heap)"
   ]
  },
  {
   "cell_type": "code",
   "execution_count": 10,
   "metadata": {},
   "outputs": [],
   "source": [
    "class Heap:\n",
    "    def __init__ (self, data):\n",
    "        self.heap_array = list()\n",
    "        self.heap_array.append(None)\n",
    "        self.heap_array.append(data)\n",
    "\n",
    "    def move_up(self,inserted_idx):\n",
    "        if inserted_idx <= 1:\n",
    "            return False \n",
    "        \n",
    "        parent_idx = inserted_idx //2 \n",
    "        if self.heap_array[inserted_idx] > self.heap_array[parent_idx]:\n",
    "            return True \n",
    "        else:\n",
    "            return False \n",
    "\n",
    "    def insert(self,data):\n",
    "        if len(self.heap_array) == 0: \n",
    "            self.heap_array.append(None)\n",
    "            self.heap_array.append(data)\n",
    "\n",
    "        self.heap_array.append(data)\n",
    "\n",
    "        inserted_idx = len(self.heap_array)-1 \n",
    "\n",
    "        while self.move_up(inserted_idx): \n",
    "            parent_idx = inserted_idx // 2\n",
    "            self.heap_array[parent_idx], self.heap_array[inserted_idx] = self.heap_array[inserted_idx], self.heap_array[parent_idx]\n",
    "            inserted_idx = parent_idx\n",
    "        return True\n",
    "        "
   ]
  },
  {
   "cell_type": "code",
   "execution_count": 12,
   "metadata": {},
   "outputs": [
    {
     "data": {
      "text/plain": [
       "[None, 20, 10, 15, 5, 4, 8]"
      ]
     },
     "execution_count": 12,
     "metadata": {},
     "output_type": "execute_result"
    }
   ],
   "source": [
    "heap = Heap(15)\n",
    "heap.insert(10)\n",
    "heap.insert(8)\n",
    "heap.insert(5)\n",
    "heap.insert(4)\n",
    "heap.insert(20)\n",
    "heap.heap_array\n"
   ]
  },
  {
   "cell_type": "code",
   "execution_count": 25,
   "metadata": {},
   "outputs": [],
   "source": [
    "class Heap:\n",
    "    def __init__(self,data):\n",
    "        self.heap_array = list()\n",
    "        self.heap_array.append(None)\n",
    "        self.heap_array.append(data)\n",
    "        \n",
    "    def move_down(self,popped_idx):\n",
    "        left_child_idx = popped_idx * 2\n",
    "        right_child_idx = popped_idx * 2 + 1\n",
    "        #왼쪽 자식 노드 없는 경우\n",
    "        if left_child_idx >= len(self.heap_array):\n",
    "                return False\n",
    "        # 오른쪽자식 노드만 없는 경우 \n",
    "        elif right_child_idx >= len(self.heap_array):\n",
    "            if self.heap_array[popped_idx] < self.heap_array[left_child_idx]:\n",
    "                return True\n",
    "            else:\n",
    "                return False \n",
    "        #왼쪽 오른쪽 노드 모두 있을 때 \n",
    "        else:\n",
    "            if self.heap_array[left_child_idx] > self.heap_array[right_child_idx]:\n",
    "                if self.heap_array[popped_idx] < self.heap_array[left_child_idx]:\n",
    "                    return True\n",
    "                else:\n",
    "                    return False \n",
    "            else:\n",
    "                if self.heap_array[popped_idx] < self.heap_array[right_child_idx]:\n",
    "                    return True \n",
    "                else:\n",
    "                    return False\n",
    "        \n",
    "        \n",
    "        \n",
    "    def pop(self):\n",
    "        if len(self.heap_array) <= 1:\n",
    "            return None\n",
    "        returned_data = self.heap_array[1]\n",
    "        self.heap_array[1] = self.heap_array[-1]\n",
    "        del self.heap_array[-1]\n",
    "        popped_idx = 1\n",
    "        \n",
    "        while self.move_down(popped_idx):\n",
    "            left_child_idx = popped_idx * 2\n",
    "            right_child_idx = popped_idx * 2 + 1\n",
    "\n",
    "            # 오른쪽자식 노드만 없는 경우 \n",
    "            if right_child_idx >= len(self.heap_array):\n",
    "                if self.heap_array[popped_idx] < self.heap_array[left_child_idx]:\n",
    "                    self.heap_array[popped_idx], self.heap_array[left_child_idx] = self.heap_array[left_child_idx], self.heap_array[popped_idx]\n",
    "                    popped_idx = left_child_idx\n",
    "\n",
    "            #왼쪽 오른쪽 노드 모두 있을 때 \n",
    "            else:\n",
    "                if self.heap_array[left_child_idx] > self.heap_array[right_child_idx]:\n",
    "                    if self.heap_array[popped_idx] < self.heap_array[left_child_idx]:\n",
    "                        self.heap_array[popped_idx], self.heap_array[left_child_idx] = self.heap_array[left_child_idx], self.heap_array[popped_idx]\n",
    "                        popped_idx = left_child_idx\n",
    "\n",
    "                \n",
    "                else:\n",
    "                    if self.heap_array[popped_idx] < self.heap_array[right_child_idx]:\n",
    "                        self.heap_array[popped_idx], self.heap_array[right_child_idx] = self.heap_array[right_child_idx], self.heap_array[popped_idx]\n",
    "                        popped_idx = right_child_idx\n",
    "                        \n",
    "            return returned_data\n",
    "        \n",
    "    def move_up(self,inserted_idx):\n",
    "        if inserted_idx <= 1:\n",
    "            return False \n",
    "        \n",
    "        parent_idx = inserted_idx //2 \n",
    "        if self.heap_array[inserted_idx] > self.heap_array[parent_idx]:\n",
    "            return True \n",
    "        else:\n",
    "            return False \n",
    "\n",
    "    def insert(self,data):\n",
    "        if len(self.heap_array) == 0: \n",
    "            self.heap_array.append(None)\n",
    "            self.heap_array.append(data)\n",
    "\n",
    "        self.heap_array.append(data)\n",
    "\n",
    "        inserted_idx = len(self.heap_array)-1 \n",
    "\n",
    "        while self.move_up(inserted_idx): \n",
    "            parent_idx = inserted_idx // 2\n",
    "            self.heap_array[parent_idx], self.heap_array[inserted_idx] = self.heap_array[inserted_idx], self.heap_array[parent_idx]\n",
    "            inserted_idx = parent_idx\n",
    "        return True\n",
    "        \n"
   ]
  },
  {
   "cell_type": "code",
   "execution_count": 26,
   "metadata": {},
   "outputs": [
    {
     "data": {
      "text/plain": [
       "20"
      ]
     },
     "execution_count": 26,
     "metadata": {},
     "output_type": "execute_result"
    }
   ],
   "source": [
    "heap = Heap(15)\n",
    "heap.insert(10)\n",
    "heap.insert(8)\n",
    "heap.insert(5)\n",
    "heap.insert(4)\n",
    "heap.insert(20)\n",
    "heap.heap_array\n",
    "heap.pop()"
   ]
  },
  {
   "cell_type": "code",
   "execution_count": null,
   "metadata": {},
   "outputs": [],
   "source": []
  },
  {
   "cell_type": "code",
   "execution_count": null,
   "metadata": {},
   "outputs": [],
   "source": []
  }
 ],
 "metadata": {
  "kernelspec": {
   "display_name": "Python 3",
   "language": "python",
   "name": "python3"
  },
  "language_info": {
   "codemirror_mode": {
    "name": "ipython",
    "version": 3
   },
   "file_extension": ".py",
   "mimetype": "text/x-python",
   "name": "python",
   "nbconvert_exporter": "python",
   "pygments_lexer": "ipython3",
   "version": "3.7.3"
  }
 },
 "nbformat": 4,
 "nbformat_minor": 2
}
